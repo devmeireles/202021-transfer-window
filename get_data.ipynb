{
 "metadata": {
  "language_info": {
   "codemirror_mode": {
    "name": "ipython",
    "version": 3
   },
   "file_extension": ".py",
   "mimetype": "text/x-python",
   "name": "python",
   "nbconvert_exporter": "python",
   "pygments_lexer": "ipython3",
   "version": "3.7.6-final"
  },
  "orig_nbformat": 2,
  "kernelspec": {
   "name": "python3",
   "display_name": "Python 3"
  }
 },
 "nbformat": 4,
 "nbformat_minor": 2,
 "cells": [
  {
   "cell_type": "code",
   "execution_count": 1,
   "metadata": {
    "tags": []
   },
   "outputs": [],
   "source": [
    "import requests\n",
    "from bs4 import BeautifulSoup as bs\n",
    "import csv\n",
    "import re\n",
    "import time"
   ]
  },
  {
   "cell_type": "code",
   "execution_count": 2,
   "metadata": {},
   "outputs": [],
   "source": [
    "def data_to_csv(data):\n",
    "    keys = data[0].keys()\n",
    "    with open('./data/data.csv', 'w', newline='')  as output_file:\n",
    "        dict_writer = csv.DictWriter(output_file, keys)\n",
    "        dict_writer.writeheader()\n",
    "        dict_writer.writerows(data)"
   ]
  },
  {
   "cell_type": "code",
   "execution_count": 3,
   "metadata": {},
   "outputs": [],
   "source": [
    "def format_text(text):\n",
    "    regex = re.compile(r'[\\n\\r\\t]')\n",
    "    text = regex.sub('', text)\n",
    "\n",
    "    return \" \".join(text.split())"
   ]
  },
  {
   "cell_type": "code",
   "execution_count": 4,
   "metadata": {},
   "outputs": [],
   "source": [
    "def format_currency(value):\n",
    "\n",
    "    value = value.replace('€', '')\n",
    "    value = value.replace('Loan fee:', '')\n",
    "    \n",
    "    if value[-1] == 'm':\n",
    "        value = value.replace('m', '')\n",
    "        return int(float(value)) * 1000000\n",
    "\n",
    "    if value[-1] == '.':\n",
    "        value = value.replace('.', '')\n",
    "        if value[-2:] == 'Th':\n",
    "            value = value.replace('Th', '')\n",
    "            return int(value) * 1000\n",
    "    \n",
    "    return value"
   ]
  },
  {
   "cell_type": "code",
   "execution_count": 5,
   "metadata": {},
   "outputs": [],
   "source": [
    "def get_data(pages):\n",
    "    players_list = []\n",
    "    for page in range(1, pages+1):\n",
    "        headers = {\"User-Agent\":\"Mozilla/5.0 (Macintosh; Intel Mac OS X 10_15_4) AppleWebKit/537.36 (KHTML, like Gecko) Chrome/83.0.4103.97 Safari/537.36\"}\n",
    "\n",
    "        url  = f'https://www.transfermarkt.com/transfers/saisontransfers/statistik?ajax=yw0&altersklasse=&ausrichtung=&land_id=0&leihe=&page={page}&plus=1&saison-id=2020&spielerposition_id=&transferfenster='\n",
    "\n",
    "        print('scraping')\n",
    "        print(url)\n",
    "\n",
    "        html = requests.get(url, headers=headers)\n",
    "        soup = bs(html.content)\n",
    "\n",
    "        soup = soup.select('.responsive-table > .grid-view > .items > tbody')[0]\n",
    "\n",
    "        try:\n",
    "            for cells in soup.find_all(True, {\"class\": re.compile(\"^(even|odd)$\")}):\n",
    "                fee = cells.find_all('td')[16].text\n",
    "                position = cells.find_all('td')[4].text\n",
    "                age = cells.find_all('td')[5].text\n",
    "                market_value = cells.find_all('td')[6].text\n",
    "                country_from = cells.find_all('td')[11].img['title']\n",
    "                league_from = cells.find_all('td')[11].a.text if cells.find_all('td')[11].a != None else 'Without League'\n",
    "                club_from = cells.find_all('td')[9].img['alt']\n",
    "                country_to = cells.find_all('td')[15].img['alt']\n",
    "                league_to = cells.find_all('td')[15].a.text if cells.find_all('td')[15].a != None else 'Without League'\n",
    "                club_to = cells.find_all('td')[13].img['alt']\n",
    "\n",
    "                player = {\n",
    "                    'name': cells.find_all('td')[1].select('td > img')[0]['title'],\n",
    "                    'position': position,\n",
    "                    'age': age,\n",
    "                    'market_value': format_currency(market_value),\n",
    "                    'country_from': country_from,\n",
    "                    'league_from': format_text(league_from),\n",
    "                    'club_from': club_from,\n",
    "                    'country_to': country_to,\n",
    "                    'league_to': format_text(league_to),\n",
    "                    'club_to': club_to,\n",
    "                    'fee': format_currency(fee),\n",
    "                }\n",
    "\n",
    "                players_list.append(player)\n",
    "        except IndexError:\n",
    "            pass\n",
    "\n",
    "    return players_list"
   ]
  },
  {
   "cell_type": "code",
   "execution_count": 6,
   "metadata": {
    "tags": []
   },
   "outputs": [
    {
     "output_type": "stream",
     "name": "stdout",
     "text": "Waiting 60 secs\nLets scrap\nhttps://www.transfermarkt.com/transfers/saisontransfers/statistik?ajax=yw0&altersklasse=&ausrichtung=&land_id=0&leihe=&page=1&plus=1&saison-id=2020&spielerposition_id=&transferfenster=\nWaiting 60 secs\nLets scrap\nhttps://www.transfermarkt.com/transfers/saisontransfers/statistik?ajax=yw0&altersklasse=&ausrichtung=&land_id=0&leihe=&page=2&plus=1&saison-id=2020&spielerposition_id=&transferfenster=\nWaiting 60 secs\nLets scrap\nhttps://www.transfermarkt.com/transfers/saisontransfers/statistik?ajax=yw0&altersklasse=&ausrichtung=&land_id=0&leihe=&page=3&plus=1&saison-id=2020&spielerposition_id=&transferfenster=\nWaiting 60 secs\nLets scrap\nhttps://www.transfermarkt.com/transfers/saisontransfers/statistik?ajax=yw0&altersklasse=&ausrichtung=&land_id=0&leihe=&page=4&plus=1&saison-id=2020&spielerposition_id=&transferfenster=\nWaiting 60 secs\nLets scrap\nhttps://www.transfermarkt.com/transfers/saisontransfers/statistik?ajax=yw0&altersklasse=&ausrichtung=&land_id=0&leihe=&page=5&plus=1&saison-id=2020&spielerposition_id=&transferfenster=\nWaiting 60 secs\nLets scrap\nhttps://www.transfermarkt.com/transfers/saisontransfers/statistik?ajax=yw0&altersklasse=&ausrichtung=&land_id=0&leihe=&page=6&plus=1&saison-id=2020&spielerposition_id=&transferfenster=\nWaiting 60 secs\nLets scrap\nhttps://www.transfermarkt.com/transfers/saisontransfers/statistik?ajax=yw0&altersklasse=&ausrichtung=&land_id=0&leihe=&page=7&plus=1&saison-id=2020&spielerposition_id=&transferfenster=\nWaiting 60 secs\nLets scrap\nhttps://www.transfermarkt.com/transfers/saisontransfers/statistik?ajax=yw0&altersklasse=&ausrichtung=&land_id=0&leihe=&page=8&plus=1&saison-id=2020&spielerposition_id=&transferfenster=\nWaiting 60 secs\nLets scrap\nhttps://www.transfermarkt.com/transfers/saisontransfers/statistik?ajax=yw0&altersklasse=&ausrichtung=&land_id=0&leihe=&page=9&plus=1&saison-id=2020&spielerposition_id=&transferfenster=\nWaiting 60 secs\nLets scrap\nhttps://www.transfermarkt.com/transfers/saisontransfers/statistik?ajax=yw0&altersklasse=&ausrichtung=&land_id=0&leihe=&page=10&plus=1&saison-id=2020&spielerposition_id=&transferfenster=\n"
    }
   ],
   "source": [
    "data = get_data(10)\n",
    "\n",
    "data_to_csv(data)"
   ]
  },
  {
   "cell_type": "code",
   "execution_count": null,
   "metadata": {},
   "outputs": [],
   "source": []
  }
 ]
}